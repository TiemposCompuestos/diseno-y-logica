{
 "cells": [
  {
   "cell_type": "markdown",
   "metadata": {},
   "source": [
    "# Algunos conceptos básicos de programación"
   ]
  },
  {
   "cell_type": "markdown",
   "metadata": {},
   "source": [
    "## Introducción\n",
    "\n",
    "Básicamente, un lenguaje de programación es un conjunto de reglas sintácticas que permiten proporcionarle instrucciones a una computadora, junto con un vocabulario básico para este fin. En este sentido, toda tarea de programación supone encontrar una secuencia de pasos que permita llevar a cabo la tarea deseada y su subsecuente expresión en la sintaxis de algún lenguaje. \n",
    "\n",
    "En el caso de la práctica estadística, tanto la visualización como el análisis numérico de los datos se efectúan de manera programática. Para eso resulta fundamental el manejo de herramientas computacionales que permitan llevar a cabo los cálculos y las representaciones visuales. Hay varias herramientas disponibles para el análisis de datos que suponen distintos niveles de comprensión de los mecanismos subyacentes al análisis. Frente a los programas de estilo 'point-and-click' como SAS, SPSS o Stata (o Microsoft Excel, también), los lenguajes de programación ofrecen un grado mayor de control sobre la lógica del análisis, además de permitir la realización de una gama de tareas mucho más amplia. Si bien aprender la lógica de un lenguaje de programación requiere de una práctica específica para ese fin, el control sobre el proceso de análisis es mucho mayor, además de abrir la puerta a la realización de una enorme variedad de tareas."
   ]
  },
  {
   "cell_type": "markdown",
   "metadata": {},
   "source": [
    "## Algunas consideraciones sobre Python\n",
    "\n",
    "Cada lenguaje de programación tiene formas de representación de información que le son propias, llamadas tipos de variables. Cada tipo de variable conforma una categoría sobre la cual se pueden realizar diferentes operaciones. La idea es sencilla: uno puede multiplicar 3 por 4, pero no la letra 'a' por la letra 'b'. Cada tipo de dato puede ser afectado por un conjunto de operaciones que le son propias. \n",
    "\n",
    "Esto significa que mientras que el tipo de variable 'string' (cadena de caracteres) sirve para codificar variables cualitativas como el nombre de un sujeto, las variables cuantitativas se van a expresar como enteros o números de punto flotante.\n",
    "\n",
    "Esto nos lleva a un punto importante que es que los tipos de datos tienen una relación importante con los tipos de variables que se utilizan para realizar un estudio, y diferentes formas de operacionalización tienen consecuencias directas en el modo en el que el lenguaje de programación codifica los datos.\n",
    "\n",
    "Para programar, sin embargo, rara vez manejamos datos en el vacío. En general se los retiene en la memoria de la computadora durante la ejecución del programa de forma tal que cada dato esté disponible para diferentes procesos. Estos sectores de memoria son lo que en programación se llama **variable**. Si bien los conceptos están relacionados, es importante no confundir las variables que forman parte del diseño de un estudio cuantitativo con las estructuras de almacenamiento en memoria que forman parte de un programa. En Python las variables se crean al asignarle un nombre a un valor, de la siguiente manera:"
   ]
  },
  {
   "cell_type": "code",
   "execution_count": null,
   "metadata": {},
   "outputs": [],
   "source": [
    "mi_entero = 100\n",
    "print(mi_entero)\n",
    "\n",
    "mi_string = 'cien'\n",
    "print(mi_string)\n",
    "\n",
    "mi_lista = [1, 10, 100, 324, 'también puedo poner caracteres']\n",
    "print(mi_lista)"
   ]
  },
  {
   "cell_type": "markdown",
   "metadata": {},
   "source": [
    "También podemos ver que hay otros componentes en el código de arriba: `=` y `print()`. En el caso de `=` se trata de un constructo que se llama **operador**. Como su nombre lo indica, sirven para realizar operaciones. En este caso, se trata de una operación de **asignación de variable** (que vamos a usar muchísimo y puede escribirse con el atajo de teclado 'alt' + '-'). Otros operadores son, por ejemplo, `+`, `-`, `*` y `/`, pero no se limita a operaciones matemáticas, sino que hay un gran número de ellos que sirven para realizar diferentes tipos de tareas.\n",
    "\n",
    "Los nombres seguidos de paréntesis, por otro lado, indican que estamos ante una función. En términos escuetos, una función es un procedimiento que toma un conjunto de valores, llamados **argumentos** y devuelve un objeto que resulta de aplicar una serie de procesos sobre dichos valores. La función `print()` toma variables o valores aislados y los imprime en pantalla.\n",
    "\n",
    "Desde luego, para hacer análisis estadísticos necesitamos un grado de complejidad mayor en nuestros datos y nuestros procesos. En general, en un análisis el tipo de dato que más nos va a importar se llama **data frame**. Un data frame es, básicamente, una tabla. Las filas son observaciones individuales mientras que las columnas son variables bajo análisis. Sin embargo, Python no tiene soporte nativo para este tipo de variable. Esto no es un problema. Más allá de las funcionalidades que provee Python por defecto, el lenguaje puede ampliarse. Cuando une usuarie o grupo escribe código que permite realizar de manera más sencilla un procedimiento determinado, puede organizarlo y compartirlo en forma de **librería** o paquete. Las librerías son conjuntos de funciones y tipos de datos creados por usuario que extienden las capacidades del lenguaje de programación.\n",
    "\n",
    "Esto nos resulta de importancia por una serie de razones. La primera es que muchísimos análisis estadísticos se hallan disponibles en librerías, pero no forman parte del núcleo básico de Python, con lo cual para llevarlos a cabo es necesario descargar la librería en cuesión o programar a mano la lógica del análisis. En la medida de lo posible, vamos a evitar hacer a mano lo que otras personas ya hayan hecho mejor que nosotres. En segundo lugar, ocurre que los criterios de diseño de código varían entre programadores, con lo cual hay variaciones en el modo en el que las librerías nombran a las clases y funciones, la forma en la que se definen los argumentos, y la propia manera en la que se ejectuan los análisis. Una librería que va a ser central para poder trabajar con datos almacenados en el formato case-by-variable que ya propusimos es **pandas**. Además de ofrecer una gran cantidad de funcionalidades destinadas a la limpieza y el análisis de datos, pandas nos brinda la posibilidad de usar data frames.\n",
    "\n",
    "Para incorporar pandas a nuestro entorno de programación, debemos ejecutar el código a continuación:"
   ]
  },
  {
   "cell_type": "code",
   "execution_count": null,
   "metadata": {},
   "outputs": [],
   "source": [
    "import pandas"
   ]
  },
  {
   "cell_type": "markdown",
   "metadata": {},
   "source": [
    "La instrucción `import` incorpora los recursos de la librería que llamemos al entorno en el cual estamos trabajando. Por razones de economía de espacio y de organización de los nombres de los recursos en nuestro entorno, Python nos permite poner un alias a las librerías que importemos. Esto se realiza del siguiente modo:"
   ]
  },
  {
   "cell_type": "code",
   "execution_count": null,
   "metadata": {},
   "outputs": [],
   "source": [
    "import pandas as pd"
   ]
  },
  {
   "cell_type": "markdown",
   "metadata": {},
   "source": [
    "En la mayoría de los usos que le demos en estas clases, vamos a importar pandas usando el alias _pd_.\n",
    "\n",
    "Cada vez que queramos emplear un recurso propio de pandas, vamos a tener que referirnos a la librería por su alias. Por ejemplo, vamos a usar la función `read_csv()` para cargar un dataset:"
   ]
  },
  {
   "cell_type": "code",
   "execution_count": null,
   "metadata": {},
   "outputs": [],
   "source": [
    "pd.read_csv('palabras_aleph.csv')"
   ]
  },
  {
   "cell_type": "markdown",
   "metadata": {},
   "source": [
    "Como podemos ver, este dataset contiene tres columnas, una correspondiente a las palabras, otra a su cantidad de apariciones, y otra a su longitud en cantidad de letras. Al abrirlo, Python sólo nos mostró algunos ejemplos del tope y del fondo de la lista.\n",
    "\n",
    "Sin embargo, no podemos trabajar con estos datos ya que no los retuvimos en la memoria de la computadora, sólo cargamos el archivo y mostramos su contenido. Para poder trabajar sobre él, necesitamos guardarlo en una variable."
   ]
  },
  {
   "cell_type": "code",
   "execution_count": null,
   "metadata": {},
   "outputs": [],
   "source": [
    "mi_dataFrame = pd.read_csv('palabras_aleph.csv')"
   ]
  },
  {
   "cell_type": "markdown",
   "metadata": {},
   "source": [
    "Ahora sí, podemos consultarlo libremente y trabajar con él."
   ]
  },
  {
   "cell_type": "code",
   "execution_count": null,
   "metadata": {},
   "outputs": [],
   "source": [
    "mi_dataFrame"
   ]
  },
  {
   "cell_type": "markdown",
   "metadata": {},
   "source": [
    "Si nosotres ponemos entre corchetes y comillas el nombre de una columna, python nos devuelve sólo los valores correspondientes a ella:"
   ]
  },
  {
   "cell_type": "code",
   "execution_count": null,
   "metadata": {},
   "outputs": [],
   "source": [
    "mi_dataFrame['palabra']"
   ]
  },
  {
   "cell_type": "markdown",
   "metadata": {},
   "source": [
    "En la celda de abajo, completen el nombre del archivo de los datos correspondientes a las familias lingüísticas y ejecuten el código para mostrarlo en pantalla."
   ]
  },
  {
   "cell_type": "code",
   "execution_count": null,
   "metadata": {},
   "outputs": [],
   "source": [
    "familias_linguisticas = pd.read_csv()\n",
    "familias_linguisticas"
   ]
  },
  {
   "cell_type": "markdown",
   "metadata": {},
   "source": [
    "#### Tarea:\n",
    "\n",
    "Seleccionen un fenómeno y una población de interés:\n",
    "- Planteen una hipótesis informal.\n",
    "- Identifiquen las variables que intervienen, indicando qué tipo de variables son.\n",
    "- Formalicen la hipótesis.\n",
    "- Diseñen un procedimiento de recolección de datos indicando de qué tipo de estudio se trata.\n",
    "- Inventen 20 observaciones que simulen la recolección de datos y pónganlas en un archivo `.csv`.\n",
    "- Abran ese archivo como un DataFrame de pandas."
   ]
  }
 ],
 "metadata": {
  "kernelspec": {
   "display_name": "Python 3",
   "language": "python",
   "name": "python3"
  },
  "language_info": {
   "codemirror_mode": {
    "name": "ipython",
    "version": 3
   },
   "file_extension": ".py",
   "mimetype": "text/x-python",
   "name": "python",
   "nbconvert_exporter": "python",
   "pygments_lexer": "ipython3",
   "version": "3.7.4"
  }
 },
 "nbformat": 4,
 "nbformat_minor": 2
}
